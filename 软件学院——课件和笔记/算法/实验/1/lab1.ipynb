{
 "cells": [
  {
   "cell_type": "code",
   "execution_count": 1,
   "metadata": {
    "ExecuteTime": {
     "end_time": "2020-10-11T04:20:01.384230Z",
     "start_time": "2020-10-11T04:19:59.913417Z"
    }
   },
   "outputs": [],
   "source": [
    "import matplotlib.pyplot as plt\n",
    "import numpy as np\n",
    "from functools import partial \n",
    "import time"
   ]
  },
  {
   "cell_type": "markdown",
   "metadata": {},
   "source": [
    "# data generation(all in range 0~1)"
   ]
  },
  {
   "cell_type": "code",
   "execution_count": 2,
   "metadata": {
    "ExecuteTime": {
     "end_time": "2020-10-11T04:20:01.387021Z",
     "start_time": "2020-10-11T04:20:01.385180Z"
    }
   },
   "outputs": [],
   "source": [
    "scales = [10**i for i in range(1,9)]"
   ]
  },
  {
   "cell_type": "code",
   "execution_count": 3,
   "metadata": {
    "ExecuteTime": {
     "end_time": "2020-10-11T04:20:07.801796Z",
     "start_time": "2020-10-11T04:20:01.388391Z"
    }
   },
   "outputs": [],
   "source": [
    "dataset_list={}\n",
    "for i in range(len(scales)):\n",
    "    dataset_list[i]=np.random.random((10,scales[i]))"
   ]
  },
  {
   "cell_type": "markdown",
   "metadata": {},
   "source": [
    "# sort algorithms"
   ]
  },
  {
   "cell_type": "markdown",
   "metadata": {},
   "source": [
    "## Insertion Sort"
   ]
  },
  {
   "cell_type": "code",
   "execution_count": 4,
   "metadata": {
    "ExecuteTime": {
     "end_time": "2020-10-11T04:20:07.823667Z",
     "start_time": "2020-10-11T04:20:07.802670Z"
    }
   },
   "outputs": [],
   "source": [
    "def insertionSort(b):\n",
    "    a=b.copy()\n",
    "    N=len(a)\n",
    "    for i in range(1,N):\n",
    "        for j in reversed(range(1,i+1)):\n",
    "            if a[j]>=a[j-1]:\n",
    "                break\n",
    "            c = a[j]\n",
    "            a[j] = a[j-1]\n",
    "            a[j-1] = c\n",
    "    return a"
   ]
  },
  {
   "cell_type": "markdown",
   "metadata": {},
   "source": [
    "## Merge Sort"
   ]
  },
  {
   "cell_type": "code",
   "execution_count": 5,
   "metadata": {
    "ExecuteTime": {
     "end_time": "2020-10-11T04:20:08.318947Z",
     "start_time": "2020-10-11T04:20:07.824655Z"
    }
   },
   "outputs": [],
   "source": [
    "def merge(arr, l, m, r): \n",
    "    n1 = m - l + 1\n",
    "    n2 = r- m \n",
    "  \n",
    "    L = [0] * (n1)\n",
    "    R = [0] * (n2)\n",
    "  \n",
    "    for i in range(0 , n1): \n",
    "        L[i] = arr[l + i] \n",
    "  \n",
    "    for j in range(0 , n2): \n",
    "        R[j] = arr[m + 1 + j] \n",
    "  \n",
    "    i = 0     \n",
    "    j = 0     \n",
    "    k = l    \n",
    "  \n",
    "    while i < n1 and j < n2 : \n",
    "        if L[i] <= R[j]: \n",
    "            arr[k] = L[i] \n",
    "            i += 1\n",
    "        else: \n",
    "            arr[k] = R[j] \n",
    "            j += 1\n",
    "        k += 1\n",
    "  \n",
    "    while i < n1: \n",
    "        arr[k] = L[i] \n",
    "        i += 1\n",
    "        k += 1\n",
    "  \n",
    "    while j < n2: \n",
    "        arr[k] = R[j] \n",
    "        j += 1\n",
    "        k += 1"
   ]
  },
  {
   "cell_type": "code",
   "execution_count": 6,
   "metadata": {
    "ExecuteTime": {
     "end_time": "2020-10-11T04:20:08.336885Z",
     "start_time": "2020-10-11T04:20:08.320919Z"
    },
    "scrolled": false
   },
   "outputs": [],
   "source": [
    "def mergeSort(arr,l,r): \n",
    "    if l < r:         \n",
    "        m = int((l+(r-1))/2)       \n",
    "        mergeSort(arr, l, m) \n",
    "        mergeSort(arr, m+1, r) \n",
    "        merge(arr, l, m, r) "
   ]
  },
  {
   "cell_type": "markdown",
   "metadata": {
    "ExecuteTime": {
     "end_time": "2020-10-09T09:26:15.054193Z",
     "start_time": "2020-10-09T09:26:15.050238Z"
    }
   },
   "source": [
    "## Quick Sort"
   ]
  },
  {
   "cell_type": "code",
   "execution_count": 7,
   "metadata": {
    "ExecuteTime": {
     "end_time": "2020-10-11T04:20:08.354539Z",
     "start_time": "2020-10-11T04:20:08.338393Z"
    }
   },
   "outputs": [],
   "source": [
    "def QuikeSort(a):\n",
    "    if a==[]:\n",
    "        return []\n",
    "    else:\n",
    "        small = [x for x in a[1:] if x < a[0]]\n",
    "        big = [x for x in a[1:] if x >= a[0]]\n",
    "        return QuikeSort(small)+[a[0]]+QuikeSort(big)"
   ]
  },
  {
   "cell_type": "markdown",
   "metadata": {
    "ExecuteTime": {
     "end_time": "2020-10-09T13:18:04.352685Z",
     "start_time": "2020-10-09T13:18:04.117265Z"
    }
   },
   "source": [
    "# selection without sort"
   ]
  },
  {
   "cell_type": "code",
   "execution_count": 71,
   "metadata": {
    "ExecuteTime": {
     "end_time": "2020-10-11T14:55:05.748984Z",
     "start_time": "2020-10-11T14:55:05.736555Z"
    }
   },
   "outputs": [],
   "source": [
    "def calculate_p(a):\n",
    "    a = np.array(a)\n",
    "    N = a.shape[0]\n",
    "    if N==1:\n",
    "        return a[0]\n",
    "    elif N<5:\n",
    "        if N%2==0:\n",
    "#             print(N)\n",
    "            return 0.5*(sorted(a)[N//2]+sorted(a)[N//2-1])\n",
    "        else:\n",
    "            return sorted(a)[N//2]\n",
    "    N_big = N\n",
    "    if not N%5==0:\n",
    "        N_big = N+5-N%5\n",
    "    fold = N_big//5\n",
    "    b = np.zeros((fold,5))\n",
    "    b_list = []\n",
    "    if not N%5==0:\n",
    "        for i in range(fold-1):\n",
    "            b[i]=a[i*5:(i+1)*5]\n",
    "        remain = N+5-N_big\n",
    "        b[fold-1][:remain]=a[N_big-5:N]\n",
    "        b[fold-1][remain:]=float(\"inf\")\n",
    "        for i in range(fold-1):\n",
    "            b_list.append(sorted(b[i])[2])\n",
    "        if (-N_big+N+5)%2==0:\n",
    "            b_list.append(0.5*(sorted(b[fold-1][:remain])[remain//2]+sorted(b[fold-1])[remain//2-1]))\n",
    "        else:\n",
    "            b_list.append(sorted(b[fold-1][:remain])[remain//2])\n",
    "    else:\n",
    "        for i in range(fold):\n",
    "            b[i]=a[i*5:(i+1)*5]\n",
    "            b_list.append(sorted(b[i])[2])\n",
    "#     print(b_list)\n",
    "    p = calculate_p(b_list)\n",
    "    return p"
   ]
  },
  {
   "cell_type": "code",
   "execution_count": 72,
   "metadata": {
    "ExecuteTime": {
     "end_time": "2020-10-11T14:55:06.145178Z",
     "start_time": "2020-10-11T14:55:06.140558Z"
    }
   },
   "outputs": [],
   "source": [
    "def partition_p(a):\n",
    "    p = calculate_p(a)\n",
    "    a_left,a_right,a_equal=[],[],[]\n",
    "    for i in range(len(a)):\n",
    "        if a[i]<p:\n",
    "            a_left.append(a[i])\n",
    "        elif a[i]==p:\n",
    "            a_equal.append(a[i])\n",
    "        else:\n",
    "            a_right.append(a[i])\n",
    "    return a_left,a_equal,a_right"
   ]
  },
  {
   "cell_type": "code",
   "execution_count": 73,
   "metadata": {
    "ExecuteTime": {
     "end_time": "2020-10-11T14:55:06.542203Z",
     "start_time": "2020-10-11T14:55:06.538499Z"
    }
   },
   "outputs": [],
   "source": [
    "def selection(a,k):\n",
    "    a_left,a_equal,a_right = partition_p(a)\n",
    "#     print(a_left,a_equal,a_right)\n",
    "    if len(a_left)>=k:\n",
    "        return selection(a_left,k)\n",
    "    elif len(a_left)+len(a_equal)>=k:\n",
    "        return a_equal[0]\n",
    "    else:\n",
    "        k_ = k-len(a_left)-len(a_equal)\n",
    "        return selection(a_right,k_)"
   ]
  },
  {
   "cell_type": "code",
   "execution_count": 68,
   "metadata": {
    "ExecuteTime": {
     "end_time": "2020-10-11T14:53:51.229090Z",
     "start_time": "2020-10-11T14:53:51.222926Z"
    }
   },
   "outputs": [
    {
     "data": {
      "text/plain": [
       "([1, 2, 5, 5, 76], 5, 5)"
      ]
     },
     "execution_count": 68,
     "metadata": {},
     "output_type": "execute_result"
    }
   ],
   "source": [
    "a = [1,5,2,76,5]\n",
    "sorted(a),sorted(a)[3],selection(a,4)"
   ]
  },
  {
   "cell_type": "code",
   "execution_count": 12,
   "metadata": {
    "ExecuteTime": {
     "end_time": "2020-10-11T04:20:08.512381Z",
     "start_time": "2020-10-11T04:20:08.459477Z"
    }
   },
   "outputs": [
    {
     "name": "stdout",
     "output_type": "stream",
     "text": [
      "0.026975734999999723\n"
     ]
    }
   ],
   "source": [
    "t0 = time.process_time()\n",
    "for i in range(1000):\n",
    "    selection(a,9)\n",
    "print(time.process_time()-t0)"
   ]
  },
  {
   "cell_type": "markdown",
   "metadata": {},
   "source": [
    "# Plot the Results"
   ]
  },
  {
   "cell_type": "markdown",
   "metadata": {},
   "source": [
    "## Compare serveral algorithms"
   ]
  },
  {
   "cell_type": "code",
   "execution_count": 13,
   "metadata": {
    "ExecuteTime": {
     "end_time": "2020-10-11T04:20:08.544223Z",
     "start_time": "2020-10-11T04:20:08.513518Z"
    }
   },
   "outputs": [],
   "source": [
    "def test_insertion_quick(scale,alg,n=10):\n",
    "    t0 = time.process_time()\n",
    "    for j in range(n):\n",
    "        for i in range(10):\n",
    "            alg(dataset_list[scale-1][i].copy())\n",
    "    return (time.process_time()-t0)/(10*n)"
   ]
  },
  {
   "cell_type": "code",
   "execution_count": 18,
   "metadata": {
    "ExecuteTime": {
     "end_time": "2020-10-11T04:48:26.500092Z",
     "start_time": "2020-10-11T04:23:05.849971Z"
    }
   },
   "outputs": [
    {
     "data": {
      "text/plain": [
       "[2.7623735000000593e-05,\n",
       " 0.001570874670000002,\n",
       " 0.14868630559999998,\n",
       " 15.019524824360001]"
      ]
     },
     "execution_count": 18,
     "metadata": {},
     "output_type": "execute_result"
    }
   ],
   "source": [
    "insertion_list = [test_insertion_quick(1,insertionSort,100)]\n",
    "for i in range(2,5):\n",
    "    insertion_list.append(test_insertion_quick(i,insertionSort))\n",
    "insertion_list"
   ]
  },
  {
   "cell_type": "code",
   "execution_count": 19,
   "metadata": {
    "ExecuteTime": {
     "end_time": "2020-10-11T04:48:26.506021Z",
     "start_time": "2020-10-11T04:48:26.501628Z"
    }
   },
   "outputs": [],
   "source": [
    "def test_merge(scale,alg,n=10):\n",
    "    t0 = time.process_time()\n",
    "    for j in range(n):\n",
    "        for i in range(10): \n",
    "#             print(dataset_list[scale-1][i].shape)\n",
    "            alg(dataset_list[scale-1][i].copy(),0,scales[scale-1]-1)\n",
    "    return (time.process_time()-t0)/(10*n)"
   ]
  },
  {
   "cell_type": "code",
   "execution_count": 20,
   "metadata": {
    "ExecuteTime": {
     "end_time": "2020-10-11T07:37:06.829348Z",
     "start_time": "2020-10-11T04:48:26.507604Z"
    }
   },
   "outputs": [
    {
     "data": {
      "text/plain": [
       "[2.3348490000012134e-05,\n",
       " 0.0003094620699994266,\n",
       " 0.004308486980000907,\n",
       " 0.05659699914999919,\n",
       " 0.6841428618999998,\n",
       " 7.9797736001500015,\n",
       " 92.31189746439]"
      ]
     },
     "execution_count": 20,
     "metadata": {},
     "output_type": "execute_result"
    }
   ],
   "source": [
    "merge_list = [test_merge(1,mergeSort,1000)]\n",
    "for i in range(2,8):\n",
    "    merge_list.append(test_merge(i,mergeSort))\n",
    "merge_list"
   ]
  },
  {
   "cell_type": "code",
   "execution_count": 21,
   "metadata": {
    "ExecuteTime": {
     "end_time": "2020-10-11T09:22:35.140383Z",
     "start_time": "2020-10-11T07:37:06.830300Z"
    }
   },
   "outputs": [
    {
     "name": "stderr",
     "output_type": "stream",
     "text": [
      "/home/shaobowang/anaconda3/lib/python3.7/site-packages/ipykernel_launcher.py:2: DeprecationWarning: elementwise comparison failed; this will raise an error in the future.\n",
      "  \n"
     ]
    },
    {
     "data": {
      "text/plain": [
       "[2.66940949986747e-05,\n",
       " 0.00019266450000941405,\n",
       " 0.002375610319995758,\n",
       " 0.028415145369999662,\n",
       " 0.3388311810699997,\n",
       " 4.1648118436699955,\n",
       " 58.65553485593002]"
      ]
     },
     "execution_count": 21,
     "metadata": {},
     "output_type": "execute_result"
    }
   ],
   "source": [
    "quick_list = [test_insertion_quick(1,QuikeSort,100)]\n",
    "for i in range(2,8):\n",
    "    quick_list.append(test_insertion_quick(i,QuikeSort))\n",
    "quick_list"
   ]
  },
  {
   "cell_type": "code",
   "execution_count": 158,
   "metadata": {
    "ExecuteTime": {
     "end_time": "2020-10-11T22:47:28.809889Z",
     "start_time": "2020-10-11T22:47:28.803062Z"
    }
   },
   "outputs": [],
   "source": [
    "def plot_fig():\n",
    "    plt.figure(figsize=(7,5))\n",
    "    plt.plot(range(4),np.log10(insertion_list))\n",
    "    plt.plot(range(7),np.log10(merge_list))\n",
    "    plt.plot(range(7),np.log10(quick_list))\n",
    "    plt.xticks(range(7),['1e'+str(i) for i in range(1,8)])\n",
    "    plt.yticks(range(-5,3),['1e'+str(i) for i in range(-5,3)])\n",
    "    plt.xlabel(\"Dataset Scale\")\n",
    "    plt.ylabel(\"Average Time for each scale\")\n",
    "    plt.title('Compare serveral sort algorithms')\n",
    "    plt.legend(('Insertion','Merge','Quick'))\n",
    "    plt.savefig('sort.jpg',dpi=300)"
   ]
  },
  {
   "cell_type": "code",
   "execution_count": 159,
   "metadata": {
    "ExecuteTime": {
     "end_time": "2020-10-11T22:47:29.342332Z",
     "start_time": "2020-10-11T22:47:29.179708Z"
    },
    "scrolled": false
   },
   "outputs": [
    {
     "data": {
      "image/png": "[encoded data removed]",
      "text/plain": [
       "<Figure size 504x360 with 1 Axes>"
      ]
     },
     "metadata": {
      "needs_background": "light"
     },
     "output_type": "display_data"
    }
   ],
   "source": [
    "plot_fig()"
   ]
  },
  {
   "cell_type": "markdown",
   "metadata": {},
   "source": [
    "quick sort is the best!"
   ]
  },
  {
   "cell_type": "markdown",
   "metadata": {},
   "source": [
    "## Compare quicksort with the selection algorithm"
   ]
  },
  {
   "cell_type": "markdown",
   "metadata": {
    "ExecuteTime": {
     "end_time": "2020-10-11T02:53:45.981936Z",
     "start_time": "2020-10-11T02:53:45.978729Z"
    }
   },
   "source": [
    "compare quick sort with selection algorithm: randomly select a k.Because this operation can be done in $O(1)$, so we can neglect this influence on the time."
   ]
  },
  {
   "cell_type": "code",
   "execution_count": 80,
   "metadata": {
    "ExecuteTime": {
     "end_time": "2020-10-11T15:32:59.987253Z",
     "start_time": "2020-10-11T15:32:59.982125Z"
    }
   },
   "outputs": [],
   "source": [
    "def test_selection(scale,n=10):\n",
    "    t0 = time.process_time()\n",
    "    for j in range(n):\n",
    "        for i in range(10): \n",
    "            selection(dataset_list[scale-1][i].copy(),k_list[scale-1])\n",
    "    return (time.process_time()-t0)/(10*n)"
   ]
  },
  {
   "cell_type": "markdown",
   "metadata": {},
   "source": [
    "randomly select $k$s for each data scale"
   ]
  },
  {
   "cell_type": "code",
   "execution_count": 74,
   "metadata": {
    "ExecuteTime": {
     "end_time": "2020-10-11T14:55:13.705452Z",
     "start_time": "2020-10-11T14:55:13.699856Z"
    }
   },
   "outputs": [
    {
     "data": {
      "text/plain": [
       "[1, 79, 989, 1439, 16815, 623967, 8014645]"
      ]
     },
     "execution_count": 74,
     "metadata": {},
     "output_type": "execute_result"
    }
   ],
   "source": [
    "k_list = [np.random.randint(scales[i],scales[i+1])//10 for i in range(7)]\n",
    "k_list"
   ]
  },
  {
   "cell_type": "code",
   "execution_count": 85,
   "metadata": {
    "ExecuteTime": {
     "end_time": "2020-10-11T16:05:44.065887Z",
     "start_time": "2020-10-11T15:34:00.245297Z"
    }
   },
   "outputs": [
    {
     "data": {
      "text/plain": [
       "[3.5333858999365476e-05,\n",
       " 0.00021469781000632793,\n",
       " 0.0017644493899933878,\n",
       " 0.01696041311002773,\n",
       " 0.16808913785000187,\n",
       " 1.7034390812499987,\n",
       " 17.119067000019967]"
      ]
     },
     "execution_count": 85,
     "metadata": {},
     "output_type": "execute_result"
    }
   ],
   "source": [
    "selection_list = [test_selection(1,100)]\n",
    "# print(selection_list)\n",
    "for i in range(2,8):\n",
    "    selection_list.append(test_selection(i))\n",
    "selection_list"
   ]
  },
  {
   "cell_type": "code",
   "execution_count": 27,
   "metadata": {
    "ExecuteTime": {
     "end_time": "2020-10-11T09:54:44.347075Z",
     "start_time": "2020-10-11T09:54:44.344766Z"
    },
    "scrolled": true
   },
   "outputs": [
    {
     "data": {
      "text/plain": [
       "[2.66940949986747e-05,\n",
       " 0.00019266450000941405,\n",
       " 0.002375610319995758,\n",
       " 0.028415145369999662,\n",
       " 0.3388311810699997,\n",
       " 4.1648118436699955,\n",
       " 58.65553485593002]"
      ]
     },
     "execution_count": 27,
     "metadata": {},
     "output_type": "execute_result"
    }
   ],
   "source": [
    "quick_list"
   ]
  },
  {
   "cell_type": "code",
   "execution_count": 154,
   "metadata": {
    "ExecuteTime": {
     "end_time": "2020-10-11T22:44:57.194277Z",
     "start_time": "2020-10-11T22:44:57.188041Z"
    }
   },
   "outputs": [],
   "source": [
    "def plot_fig_final():\n",
    "    plt.figure(figsize=(7,5))\n",
    "    plt.plot(range(7),np.log10(quick_list))\n",
    "    plt.plot(range(7),np.log10(selection_list))\n",
    "    plt.xticks(range(7),['1e'+str(i) for i in range(1,8)])\n",
    "    plt.yticks(range(-5,3),['1e'+str(i) for i in range(-5,3)])\n",
    "    plt.xlabel(\"Dataset Scale\")\n",
    "    plt.ylabel(\"Average Time for each scale\")\n",
    "    plt.title('Compare 2 algorithms')\n",
    "    plt.legend(('Quick','Selection'))\n",
    "    plt.savefig('result.jpg',dpi=300)"
   ]
  },
  {
   "cell_type": "code",
   "execution_count": 155,
   "metadata": {
    "ExecuteTime": {
     "end_time": "2020-10-11T22:44:57.630224Z",
     "start_time": "2020-10-11T22:44:57.478123Z"
    }
   },
   "outputs": [
    {
     "data": {
      "image/png": "[encoded data removed]",
      "text/plain": [
       "<Figure size 504x360 with 1 Axes>"
      ]
     },
     "metadata": {
      "needs_background": "light"
     },
     "output_type": "display_data"
    }
   ],
   "source": [
    "plot_fig_final()"
   ]
  },
  {
   "cell_type": "markdown",
   "metadata": {},
   "source": [
    "As we can see, selection algorithm is better than quick sort. \\\n",
    "Furthermore, we can see that in the small data scale, quick sort may be better. I think it is because the indexing operation may contribute a litte in small data scale. In large scale, however, this influence is too tiny to be considered."
   ]
  },
  {
   "cell_type": "code",
   "execution_count": null,
   "metadata": {},
   "outputs": [],
   "source": []
  },
  {
   "cell_type": "code",
   "execution_count": null,
   "metadata": {},
   "outputs": [],
   "source": []
  }
 ],
 "metadata": {
  "kernelspec": {
   "display_name": "Python 3",
   "language": "python",
   "name": "python3"
  },
  "language_info": {
   "codemirror_mode": {
    "name": "ipython",
    "version": 3
   },
   "file_extension": ".py",
   "mimetype": "text/x-python",
   "name": "python",
   "nbconvert_exporter": "python",
   "pygments_lexer": "ipython3",
   "version": "3.7.6"
  },
  "latex_envs": {
   "LaTeX_envs_menu_present": true,
   "autoclose": false,
   "autocomplete": true,
   "bibliofile": "biblio.bib",
   "cite_by": "apalike",
   "current_citInitial": 1,
   "eqLabelWithNumbers": true,
   "eqNumInitial": 1,
   "hotkeys": {
    "equation": "Ctrl-E",
    "itemize": "Ctrl-I"
   },
   "labels_anchors": false,
   "latex_user_defs": false,
   "report_style_numbering": false,
   "user_envs_cfg": false
  },
  "toc": {
   "base_numbering": 1,
   "nav_menu": {},
   "number_sections": true,
   "sideBar": true,
   "skip_h1_title": false,
   "title_cell": "Table of Contents",
   "title_sidebar": "Contents",
   "toc_cell": false,
   "toc_position": {},
   "toc_section_display": true,
   "toc_window_display": false
  }
 },
 "nbformat": 4,
 "nbformat_minor": 4
}
